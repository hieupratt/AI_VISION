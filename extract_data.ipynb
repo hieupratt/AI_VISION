{
 "cells": [
  {
   "cell_type": "markdown",
   "metadata": {},
   "source": [
    "## Dependencies"
   ]
  },
  {
   "cell_type": "code",
   "execution_count": 1,
   "metadata": {},
   "outputs": [],
   "source": [
    "import mediapipe as mp\n",
    "import pandas as pd\n",
    "import cv2 as cv\n",
    "import numpy as np\n",
    "from PIL import Image\n",
    "import os"
   ]
  },
  {
   "cell_type": "code",
   "execution_count": 2,
   "metadata": {},
   "outputs": [],
   "source": [
    "mpPose = mp.solutions.pose\n",
    "pose = mpPose.Pose()\n",
    "mpDraw = mp.solutions.drawing_utils\n",
    "\n",
    "images = []\n",
    "lm_list = []\n",
    "\n",
    "image_dir = 'C:\\\\Users\\\\PC\\\\Downloads\\\\data'\n",
    "\n",
    "for filename in os.listdir(image_dir):\n",
    "    img = cv.imread(os.path.join(image_dir, filename))\n",
    "    images.append(img)"
   ]
  },
  {
   "cell_type": "code",
   "execution_count": 3,
   "metadata": {},
   "outputs": [],
   "source": [
    "def make_landmarks(results):\n",
    "    c_lm = []\n",
    "    if results.pose_landmarks:\n",
    "        for lm in results.pose_landmarks.landmark:\n",
    "            c_lm.append(lm.x)\n",
    "            c_lm.append(lm.y)\n",
    "\n",
    "    return np.array(c_lm)"
   ]
  },
  {
   "cell_type": "code",
   "execution_count": 5,
   "metadata": {},
   "outputs": [],
   "source": [
    "def draw_landmarks(mpDraw, results, img):\n",
    "    mpDraw.draw_landmarks(img, results.pose_landmarks, mpPose.POSE_CONNECTIONS)\n",
    "\n",
    "    for id, lm in enumerate(results.pose_landmarks.landmark):\n",
    "        h, w, c = img.shape\n",
    "        print(id, lm)\n",
    "        cx, cy = int(lm.x * w), int(lm.y * h)\n",
    "        cv.circle(img, (cx, cy), 10, (0, 0, 255), cv.FILLED)\n",
    "    \n",
    "    return img"
   ]
  },
  {
   "cell_type": "markdown",
   "metadata": {},
   "source": [
    "## Data to Excel"
   ]
  },
  {
   "cell_type": "code",
   "execution_count": 6,
   "metadata": {},
   "outputs": [
    {
     "name": "stdout",
     "output_type": "stream",
     "text": [
      "Data written to Excel successfully!\n"
     ]
    }
   ],
   "source": [
    "for img in images:\n",
    "    results = pose.process(img)\n",
    "\n",
    "    if results.pose_landmarks:\n",
    "        lm = make_landmarks(results)\n",
    "\n",
    "        lm_list.append(lm)\n",
    "        img_lm = draw_landmarks\n",
    "\n",
    "df = pd.DataFrame(lm_list)\n",
    "df.to_excel('F:\\\\Final Project\\\\datav2.xlsx', index=False)\n",
    "print(\"Data written to Excel successfully!\")"
   ]
  }
 ],
 "metadata": {
  "kernelspec": {
   "display_name": "Python 3",
   "language": "python",
   "name": "python3"
  },
  "language_info": {
   "codemirror_mode": {
    "name": "ipython",
    "version": 3
   },
   "file_extension": ".py",
   "mimetype": "text/x-python",
   "name": "python",
   "nbconvert_exporter": "python",
   "pygments_lexer": "ipython3",
   "version": "3.12.4"
  }
 },
 "nbformat": 4,
 "nbformat_minor": 2
}
